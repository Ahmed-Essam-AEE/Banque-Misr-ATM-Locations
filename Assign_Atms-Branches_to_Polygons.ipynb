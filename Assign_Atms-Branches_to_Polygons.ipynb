{
 "cells": [
  {
   "cell_type": "code",
   "execution_count": 1,
   "id": "3e79ad9c",
   "metadata": {},
   "outputs": [],
   "source": [
    "import pandas as pd\n",
    "import numpy as np\n",
    "import mpu\n",
    "import seaborn as sns\n",
    "import re"
   ]
  },
  {
   "cell_type": "code",
   "execution_count": null,
   "id": "0daba403",
   "metadata": {},
   "outputs": [],
   "source": [
    "import geopandas as gpd\n",
    "import geopy\n",
    "from shapely.geometry import Point, Polygon\n",
    "from geopy.geocoders import Nominatim"
   ]
  },
  {
   "cell_type": "code",
   "execution_count": 2,
   "id": "ec74d49b",
   "metadata": {},
   "outputs": [],
   "source": [
    "pd.set_option('display.max_rows', 100)\n",
    "pd.set_option('display.max_columns', 100)\n",
    "pd.set_option('display.width', 100)"
   ]
  },
  {
   "cell_type": "code",
   "execution_count": 4,
   "id": "78665343",
   "metadata": {},
   "outputs": [
    {
     "data": {
      "text/html": [
       "<div>\n",
       "<style scoped>\n",
       "    .dataframe tbody tr th:only-of-type {\n",
       "        vertical-align: middle;\n",
       "    }\n",
       "\n",
       "    .dataframe tbody tr th {\n",
       "        vertical-align: top;\n",
       "    }\n",
       "\n",
       "    .dataframe thead th {\n",
       "        text-align: right;\n",
       "    }\n",
       "</style>\n",
       "<table border=\"1\" class=\"dataframe\">\n",
       "  <thead>\n",
       "    <tr style=\"text-align: right;\">\n",
       "      <th></th>\n",
       "      <th>ADM3_EN</th>\n",
       "      <th>ADM3_AR</th>\n",
       "      <th>ADM3_PCODE</th>\n",
       "      <th>ADM3_REF</th>\n",
       "      <th>ADM3ALT1EN</th>\n",
       "      <th>ADM3ALT2EN</th>\n",
       "      <th>ADM3ALT1AR</th>\n",
       "      <th>ADM3ALT2AR</th>\n",
       "      <th>ADM2_EN</th>\n",
       "      <th>ADM2_AR</th>\n",
       "      <th>ADM2_PCODE</th>\n",
       "      <th>ADM1_EN</th>\n",
       "      <th>ADM1_AR</th>\n",
       "      <th>ADM1_PCODE</th>\n",
       "      <th>ADM0_EN</th>\n",
       "      <th>ADM0_AR</th>\n",
       "      <th>ADM0_PCODE</th>\n",
       "      <th>date</th>\n",
       "      <th>validOn</th>\n",
       "      <th>validTo</th>\n",
       "      <th>Shape_Leng</th>\n",
       "      <th>Shape_Area</th>\n",
       "      <th>geometry</th>\n",
       "    </tr>\n",
       "  </thead>\n",
       "  <tbody>\n",
       "    <tr>\n",
       "      <th>0</th>\n",
       "      <td>None</td>\n",
       "      <td>الجزيره</td>\n",
       "      <td>EG120918</td>\n",
       "      <td>None</td>\n",
       "      <td>None</td>\n",
       "      <td>None</td>\n",
       "      <td>None</td>\n",
       "      <td>None</td>\n",
       "      <td>Dikirnis</td>\n",
       "      <td>مركز دكرنس</td>\n",
       "      <td>EG1209</td>\n",
       "      <td>Dakahlia</td>\n",
       "      <td>الدقهلية</td>\n",
       "      <td>EG12</td>\n",
       "      <td>Egypt</td>\n",
       "      <td>مِصر</td>\n",
       "      <td>EG</td>\n",
       "      <td>2006-01-01</td>\n",
       "      <td>2017-04-21</td>\n",
       "      <td>None</td>\n",
       "      <td>0.055274</td>\n",
       "      <td>0.000157</td>\n",
       "      <td>POLYGON ((31.54448 31.08392, 31.54505 31.07872...</td>\n",
       "    </tr>\n",
       "    <tr>\n",
       "      <th>1</th>\n",
       "      <td>None</td>\n",
       "      <td>الجهاد 4</td>\n",
       "      <td>EG240525</td>\n",
       "      <td>None</td>\n",
       "      <td>None</td>\n",
       "      <td>None</td>\n",
       "      <td>None</td>\n",
       "      <td>None</td>\n",
       "      <td>Markz Al Idwa</td>\n",
       "      <td>مركز العدوة</td>\n",
       "      <td>EG2405</td>\n",
       "      <td>Menia</td>\n",
       "      <td>المنيا\\n</td>\n",
       "      <td>EG24</td>\n",
       "      <td>Egypt</td>\n",
       "      <td>مِصر</td>\n",
       "      <td>EG</td>\n",
       "      <td>2006-01-01</td>\n",
       "      <td>2017-04-21</td>\n",
       "      <td>None</td>\n",
       "      <td>0.101889</td>\n",
       "      <td>0.000594</td>\n",
       "      <td>POLYGON ((30.73757 28.74247, 30.73682 28.74252...</td>\n",
       "    </tr>\n",
       "    <tr>\n",
       "      <th>2</th>\n",
       "      <td>None</td>\n",
       "      <td>أم الرضا الجديدة</td>\n",
       "      <td>EG110437</td>\n",
       "      <td>None</td>\n",
       "      <td>None</td>\n",
       "      <td>None</td>\n",
       "      <td>None</td>\n",
       "      <td>None</td>\n",
       "      <td>Kafr Sad</td>\n",
       "      <td>مركز كفر سعد</td>\n",
       "      <td>EG1104</td>\n",
       "      <td>Damietta</td>\n",
       "      <td>دمياط\\n</td>\n",
       "      <td>EG11</td>\n",
       "      <td>Egypt</td>\n",
       "      <td>مِصر</td>\n",
       "      <td>EG</td>\n",
       "      <td>2006-01-01</td>\n",
       "      <td>2017-04-21</td>\n",
       "      <td>None</td>\n",
       "      <td>0.049183</td>\n",
       "      <td>0.000103</td>\n",
       "      <td>POLYGON ((31.63090 31.41011, 31.62543 31.40981...</td>\n",
       "    </tr>\n",
       "    <tr>\n",
       "      <th>3</th>\n",
       "      <td>None</td>\n",
       "      <td>رأس محمد</td>\n",
       "      <td>EG350502</td>\n",
       "      <td>None</td>\n",
       "      <td>None</td>\n",
       "      <td>None</td>\n",
       "      <td>None</td>\n",
       "      <td>None</td>\n",
       "      <td>Sharm el-Sheikh</td>\n",
       "      <td>قسم شرم الشيخ</td>\n",
       "      <td>EG3505</td>\n",
       "      <td>South Sinai</td>\n",
       "      <td>جنوب سيناء</td>\n",
       "      <td>EG35</td>\n",
       "      <td>Egypt</td>\n",
       "      <td>مِصر</td>\n",
       "      <td>EG</td>\n",
       "      <td>2006-01-01</td>\n",
       "      <td>2017-04-21</td>\n",
       "      <td>None</td>\n",
       "      <td>0.044184</td>\n",
       "      <td>0.000094</td>\n",
       "      <td>POLYGON ((34.24396 27.75904, 34.24485 27.74441...</td>\n",
       "    </tr>\n",
       "    <tr>\n",
       "      <th>4</th>\n",
       "      <td>None</td>\n",
       "      <td>مبارك</td>\n",
       "      <td>EG120565</td>\n",
       "      <td>None</td>\n",
       "      <td>None</td>\n",
       "      <td>None</td>\n",
       "      <td>None</td>\n",
       "      <td>None</td>\n",
       "      <td>Sinbillawin</td>\n",
       "      <td>مركز السنبلاوين</td>\n",
       "      <td>EG1205</td>\n",
       "      <td>Dakahlia</td>\n",
       "      <td>الدقهلية</td>\n",
       "      <td>EG12</td>\n",
       "      <td>Egypt</td>\n",
       "      <td>مِصر</td>\n",
       "      <td>EG</td>\n",
       "      <td>2006-01-01</td>\n",
       "      <td>2017-04-21</td>\n",
       "      <td>None</td>\n",
       "      <td>0.044160</td>\n",
       "      <td>0.000122</td>\n",
       "      <td>POLYGON ((31.36003 30.86623, 31.36525 30.86547...</td>\n",
       "    </tr>\n",
       "  </tbody>\n",
       "</table>\n",
       "</div>"
      ],
      "text/plain": [
       "  ADM3_EN           ADM3_AR ADM3_PCODE ADM3_REF ADM3ALT1EN ADM3ALT2EN ADM3ALT1AR ADM3ALT2AR  \\\n",
       "0    None           الجزيره   EG120918     None       None       None       None       None   \n",
       "1    None          الجهاد 4   EG240525     None       None       None       None       None   \n",
       "2    None  أم الرضا الجديدة   EG110437     None       None       None       None       None   \n",
       "3    None          رأس محمد   EG350502     None       None       None       None       None   \n",
       "4    None             مبارك   EG120565     None       None       None       None       None   \n",
       "\n",
       "           ADM2_EN          ADM2_AR ADM2_PCODE      ADM1_EN     ADM1_AR ADM1_PCODE ADM0_EN  \\\n",
       "0         Dikirnis       مركز دكرنس     EG1209     Dakahlia    الدقهلية       EG12   Egypt   \n",
       "1    Markz Al Idwa      مركز العدوة     EG2405        Menia    المنيا\\n       EG24   Egypt   \n",
       "2         Kafr Sad     مركز كفر سعد     EG1104     Damietta     دمياط\\n       EG11   Egypt   \n",
       "3  Sharm el-Sheikh    قسم شرم الشيخ     EG3505  South Sinai  جنوب سيناء       EG35   Egypt   \n",
       "4      Sinbillawin  مركز السنبلاوين     EG1205     Dakahlia    الدقهلية       EG12   Egypt   \n",
       "\n",
       "  ADM0_AR ADM0_PCODE        date     validOn validTo  Shape_Leng  Shape_Area  \\\n",
       "0    مِصر         EG  2006-01-01  2017-04-21    None    0.055274    0.000157   \n",
       "1    مِصر         EG  2006-01-01  2017-04-21    None    0.101889    0.000594   \n",
       "2    مِصر         EG  2006-01-01  2017-04-21    None    0.049183    0.000103   \n",
       "3    مِصر         EG  2006-01-01  2017-04-21    None    0.044184    0.000094   \n",
       "4    مِصر         EG  2006-01-01  2017-04-21    None    0.044160    0.000122   \n",
       "\n",
       "                                            geometry  \n",
       "0  POLYGON ((31.54448 31.08392, 31.54505 31.07872...  \n",
       "1  POLYGON ((30.73757 28.74247, 30.73682 28.74252...  \n",
       "2  POLYGON ((31.63090 31.41011, 31.62543 31.40981...  \n",
       "3  POLYGON ((34.24396 27.75904, 34.24485 27.74441...  \n",
       "4  POLYGON ((31.36003 30.86623, 31.36525 30.86547...  "
      ]
     },
     "execution_count": 4,
     "metadata": {},
     "output_type": "execute_result"
    }
   ],
   "source": [
    "geo_df = gpd.read_file('Reading shape files/egy_admbnda_adm3_capmas_20170421.shp')\n",
    "geo_df.head()"
   ]
  },
  {
   "cell_type": "code",
   "execution_count": 5,
   "id": "981eb7dc",
   "metadata": {},
   "outputs": [
    {
     "data": {
      "text/html": [
       "<div>\n",
       "<style scoped>\n",
       "    .dataframe tbody tr th:only-of-type {\n",
       "        vertical-align: middle;\n",
       "    }\n",
       "\n",
       "    .dataframe tbody tr th {\n",
       "        vertical-align: top;\n",
       "    }\n",
       "\n",
       "    .dataframe thead th {\n",
       "        text-align: right;\n",
       "    }\n",
       "</style>\n",
       "<table border=\"1\" class=\"dataframe\">\n",
       "  <thead>\n",
       "    <tr style=\"text-align: right;\">\n",
       "      <th></th>\n",
       "      <th>ADM1_AR</th>\n",
       "      <th>ADM2_AR</th>\n",
       "      <th>ADM3_AR</th>\n",
       "      <th>geometry</th>\n",
       "    </tr>\n",
       "  </thead>\n",
       "  <tbody>\n",
       "    <tr>\n",
       "      <th>0</th>\n",
       "      <td>الدقهلية</td>\n",
       "      <td>مركز دكرنس</td>\n",
       "      <td>الجزيره</td>\n",
       "      <td>POLYGON ((31.54448 31.08392, 31.54505 31.07872...</td>\n",
       "    </tr>\n",
       "    <tr>\n",
       "      <th>1</th>\n",
       "      <td>المنيا\\n</td>\n",
       "      <td>مركز العدوة</td>\n",
       "      <td>الجهاد 4</td>\n",
       "      <td>POLYGON ((30.73757 28.74247, 30.73682 28.74252...</td>\n",
       "    </tr>\n",
       "    <tr>\n",
       "      <th>2</th>\n",
       "      <td>دمياط\\n</td>\n",
       "      <td>مركز كفر سعد</td>\n",
       "      <td>أم الرضا الجديدة</td>\n",
       "      <td>POLYGON ((31.63090 31.41011, 31.62543 31.40981...</td>\n",
       "    </tr>\n",
       "    <tr>\n",
       "      <th>3</th>\n",
       "      <td>جنوب سيناء</td>\n",
       "      <td>قسم شرم الشيخ</td>\n",
       "      <td>رأس محمد</td>\n",
       "      <td>POLYGON ((34.24396 27.75904, 34.24485 27.74441...</td>\n",
       "    </tr>\n",
       "    <tr>\n",
       "      <th>4</th>\n",
       "      <td>الدقهلية</td>\n",
       "      <td>مركز السنبلاوين</td>\n",
       "      <td>مبارك</td>\n",
       "      <td>POLYGON ((31.36003 30.86623, 31.36525 30.86547...</td>\n",
       "    </tr>\n",
       "  </tbody>\n",
       "</table>\n",
       "</div>"
      ],
      "text/plain": [
       "      ADM1_AR          ADM2_AR           ADM3_AR  \\\n",
       "0    الدقهلية       مركز دكرنس           الجزيره   \n",
       "1    المنيا\\n      مركز العدوة          الجهاد 4   \n",
       "2     دمياط\\n     مركز كفر سعد  أم الرضا الجديدة   \n",
       "3  جنوب سيناء    قسم شرم الشيخ          رأس محمد   \n",
       "4    الدقهلية  مركز السنبلاوين             مبارك   \n",
       "\n",
       "                                            geometry  \n",
       "0  POLYGON ((31.54448 31.08392, 31.54505 31.07872...  \n",
       "1  POLYGON ((30.73757 28.74247, 30.73682 28.74252...  \n",
       "2  POLYGON ((31.63090 31.41011, 31.62543 31.40981...  \n",
       "3  POLYGON ((34.24396 27.75904, 34.24485 27.74441...  \n",
       "4  POLYGON ((31.36003 30.86623, 31.36525 30.86547...  "
      ]
     },
     "execution_count": 5,
     "metadata": {},
     "output_type": "execute_result"
    }
   ],
   "source": [
    "shapefile = geo_df[['ADM1_AR','ADM2_AR','ADM3_AR','geometry']]\n",
    "shapefile.head()"
   ]
  },
  {
   "cell_type": "code",
   "execution_count": 6,
   "id": "bd0c28f3",
   "metadata": {},
   "outputs": [
    {
     "name": "stdout",
     "output_type": "stream",
     "text": [
      "<class 'geopandas.geodataframe.GeoDataFrame'>\n",
      "RangeIndex: 5716 entries, 0 to 5715\n",
      "Data columns (total 4 columns):\n",
      " #   Column    Non-Null Count  Dtype   \n",
      "---  ------    --------------  -----   \n",
      " 0   ADM1_AR   5716 non-null   object  \n",
      " 1   ADM2_AR   5716 non-null   object  \n",
      " 2   ADM3_AR   5716 non-null   object  \n",
      " 3   geometry  5716 non-null   geometry\n",
      "dtypes: geometry(1), object(3)\n",
      "memory usage: 178.8+ KB\n"
     ]
    }
   ],
   "source": [
    "shapefile.info()"
   ]
  },
  {
   "cell_type": "code",
   "execution_count": 7,
   "id": "7d7b0e61",
   "metadata": {},
   "outputs": [
    {
     "name": "stderr",
     "output_type": "stream",
     "text": [
      "/home/abduallah/.local/lib/python3.10/site-packages/geopandas/geodataframe.py:1472: SettingWithCopyWarning: \n",
      "A value is trying to be set on a copy of a slice from a DataFrame.\n",
      "Try using .loc[row_indexer,col_indexer] = value instead\n",
      "\n",
      "See the caveats in the documentation: https://pandas.pydata.org/pandas-docs/stable/user_guide/indexing.html#returning-a-view-versus-a-copy\n",
      "  super().__setitem__(key, value)\n"
     ]
    }
   ],
   "source": [
    "shapefile['ADM1_AR'] = shapefile['ADM1_AR'].apply(lambda x : re.sub('\\n','',x))\n",
    "shapefile['ADM2_AR'] = shapefile['ADM2_AR'].apply(lambda x : re.sub('\\n','',x))\n",
    "shapefile['ADM3_AR'] = shapefile['ADM3_AR'].apply(lambda x : re.sub('\\n','',x))\n"
   ]
  },
  {
   "cell_type": "code",
   "execution_count": 8,
   "id": "20288aff",
   "metadata": {},
   "outputs": [
    {
     "data": {
      "text/plain": [
       "geopandas.geoseries.GeoSeries"
      ]
     },
     "execution_count": 8,
     "metadata": {},
     "output_type": "execute_result"
    }
   ],
   "source": [
    "shapes = shapefile['geometry']\n",
    "type(shapes)"
   ]
  },
  {
   "cell_type": "code",
   "execution_count": 9,
   "id": "62900ad6",
   "metadata": {
    "scrolled": false
   },
   "outputs": [
    {
     "data": {
      "text/html": [
       "<div>\n",
       "<style scoped>\n",
       "    .dataframe tbody tr th:only-of-type {\n",
       "        vertical-align: middle;\n",
       "    }\n",
       "\n",
       "    .dataframe tbody tr th {\n",
       "        vertical-align: top;\n",
       "    }\n",
       "\n",
       "    .dataframe thead th {\n",
       "        text-align: right;\n",
       "    }\n",
       "</style>\n",
       "<table border=\"1\" class=\"dataframe\">\n",
       "  <thead>\n",
       "    <tr style=\"text-align: right;\">\n",
       "      <th></th>\n",
       "      <th>Address</th>\n",
       "      <th>Lat</th>\n",
       "      <th>Long</th>\n",
       "    </tr>\n",
       "  </thead>\n",
       "  <tbody>\n",
       "    <tr>\n",
       "      <th>0</th>\n",
       "      <td>Alfayoum Beghous Alhoriea St.</td>\n",
       "      <td>29.304412</td>\n",
       "      <td>30.853546</td>\n",
       "    </tr>\n",
       "    <tr>\n",
       "      <th>1</th>\n",
       "      <td>Fayoum University</td>\n",
       "      <td>29.319696</td>\n",
       "      <td>30.835641</td>\n",
       "    </tr>\n",
       "    <tr>\n",
       "      <th>2</th>\n",
       "      <td>Fayoum AlHoriea St.</td>\n",
       "      <td>29.308199</td>\n",
       "      <td>30.842229</td>\n",
       "    </tr>\n",
       "    <tr>\n",
       "      <th>3</th>\n",
       "      <td>Sanoras - Fayoum</td>\n",
       "      <td>29.408575</td>\n",
       "      <td>30.865073</td>\n",
       "    </tr>\n",
       "    <tr>\n",
       "      <th>4</th>\n",
       "      <td>194 Abo Bakr AlSiddiq St.- Atsa City - Fayoum</td>\n",
       "      <td>29.236966</td>\n",
       "      <td>30.790194</td>\n",
       "    </tr>\n",
       "  </tbody>\n",
       "</table>\n",
       "</div>"
      ],
      "text/plain": [
       "                                         Address        Lat       Long\n",
       "0                  Alfayoum Beghous Alhoriea St.  29.304412  30.853546\n",
       "1                              Fayoum University  29.319696  30.835641\n",
       "2                            Fayoum AlHoriea St.  29.308199  30.842229\n",
       "3                               Sanoras - Fayoum  29.408575  30.865073\n",
       "4  194 Abo Bakr AlSiddiq St.- Atsa City - Fayoum  29.236966  30.790194"
      ]
     },
     "execution_count": 9,
     "metadata": {},
     "output_type": "execute_result"
    }
   ],
   "source": [
    "atm_df = pd.read_excel('ATMS_bank_misr(add,lat,long).xlsx')\n",
    "atm_df.head(5)"
   ]
  },
  {
   "cell_type": "code",
   "execution_count": 10,
   "id": "6908f36f",
   "metadata": {},
   "outputs": [
    {
     "data": {
      "text/plain": [
       "(5716,)"
      ]
     },
     "execution_count": 10,
     "metadata": {},
     "output_type": "execute_result"
    }
   ],
   "source": [
    "shapes.shape"
   ]
  },
  {
   "cell_type": "code",
   "execution_count": 14,
   "id": "f9b4c8c4",
   "metadata": {},
   "outputs": [],
   "source": [
    "def getpolygon (lat,lon):\n",
    "    # transform lat and long into a point obj\n",
    "    point = Point(lon, lat)\n",
    "    \n",
    "    distances = []\n",
    "    # get distances between the point and all polygons so it is 1 * 5716 operation\n",
    "    for i in range (len(shapes)):\n",
    "        distances.append(point.distance(shapes[i]))\n",
    "    # return the index of the minimum distance\n",
    "    # the index is respect to the shapefile which contain all sub regions\n",
    "    return np.array(distances).argmin()\n"
   ]
  },
  {
   "cell_type": "code",
   "execution_count": 15,
   "id": "ccf014b6",
   "metadata": {},
   "outputs": [
    {
     "name": "stdout",
     "output_type": "stream",
     "text": [
      "3966\n"
     ]
    },
    {
     "data": {
      "text/plain": [
       "ADM1_AR                                                المنيا\n",
       "ADM2_AR                                            قسم المنيا\n",
       "ADM3_AR                                              قسم ثالث\n",
       "geometry    POLYGON ((30.75615195100005 28.10614226100006,...\n",
       "Name: 3966, dtype: object"
      ]
     },
     "execution_count": 15,
     "metadata": {},
     "output_type": "execute_result"
    }
   ],
   "source": [
    "# test the getpolygon function with some lat and long\n",
    "print(getpolygon(28.10486134,30.7515505))\n",
    "shapefile.iloc[getpolygon(28.10486134,30.7515505)]"
   ]
  },
  {
   "cell_type": "code",
   "execution_count": 18,
   "id": "316d210f",
   "metadata": {},
   "outputs": [],
   "source": [
    "def get_places(input_table):\n",
    "    # get the index of the minimum distance in the shapefile\n",
    "    index = getpolygon(input_table[0],input_table[1])\n",
    "\n",
    "    location = shapefile.iloc[index]\n",
    "        \n",
    "    gov = location['ADM1_AR']\n",
    "    region = location['ADM2_AR']\n",
    "    subregion = location['ADM3_AR']\n",
    "                \n",
    "    # map every feature into it's column\n",
    "    input_table['محافظة'] = gov\n",
    "    input_table['قسم / مركز'] = region\n",
    "    input_table['منطقة'] = subregion\n",
    "    \n",
    "    return input_table"
   ]
  },
  {
   "cell_type": "code",
   "execution_count": null,
   "id": "240bcd55",
   "metadata": {},
   "outputs": [],
   "source": [
    "# apply the function, the complexity is 5716 * 5716 so it may take about 10 or 15 min to execute\n",
    "atm_df = atm_df[['Lat','Long','Address']].apply(get_places, axis = 1)\n",
    "atm_df"
   ]
  },
  {
   "cell_type": "code",
   "execution_count": null,
   "id": "bd76d154",
   "metadata": {},
   "outputs": [],
   "source": [
    "# insert id column \n",
    "atm_df.insert(0,'ID',range(1,len(atm_df)+1))\n",
    "atm_df"
   ]
  },
  {
   "cell_type": "code",
   "execution_count": null,
   "id": "787639e7",
   "metadata": {},
   "outputs": [],
   "source": [
    "# change columns' positions\n",
    "atm_df = atm_df.loc[:,['ID','Address','منطقة','قسم / مركز','محافظة','Lat','Long']]"
   ]
  },
  {
   "cell_type": "code",
   "execution_count": null,
   "id": "d1393173",
   "metadata": {},
   "outputs": [],
   "source": [
    "atm_df.info()"
   ]
  },
  {
   "cell_type": "code",
   "execution_count": null,
   "id": "e09e6024",
   "metadata": {},
   "outputs": [],
   "source": [
    "atm_df"
   ]
  },
  {
   "cell_type": "code",
   "execution_count": null,
   "id": "c557ec50",
   "metadata": {},
   "outputs": [],
   "source": [
    "atm_df.to_excel('Atms_bankmisr_AR.xlsx',index= False)"
   ]
  },
  {
   "cell_type": "code",
   "execution_count": null,
   "id": "f7a4b577",
   "metadata": {},
   "outputs": [],
   "source": [
    "# loading the file so we don't have to execute the cells above again\n",
    "# atm_df = pd.read_excel('Atms_bankmisr_AR.xlsx')\n",
    "# atm_df.head()"
   ]
  },
  {
   "cell_type": "code",
   "execution_count": 22,
   "id": "7c3a1a01",
   "metadata": {},
   "outputs": [
    {
     "data": {
      "text/html": [
       "<div>\n",
       "<style scoped>\n",
       "    .dataframe tbody tr th:only-of-type {\n",
       "        vertical-align: middle;\n",
       "    }\n",
       "\n",
       "    .dataframe tbody tr th {\n",
       "        vertical-align: top;\n",
       "    }\n",
       "\n",
       "    .dataframe thead th {\n",
       "        text-align: right;\n",
       "    }\n",
       "</style>\n",
       "<table border=\"1\" class=\"dataframe\">\n",
       "  <thead>\n",
       "    <tr style=\"text-align: right;\">\n",
       "      <th></th>\n",
       "      <th>Branch_Address</th>\n",
       "      <th>Lat</th>\n",
       "      <th>Long</th>\n",
       "    </tr>\n",
       "  </thead>\n",
       "  <tbody>\n",
       "    <tr>\n",
       "      <th>0</th>\n",
       "      <td>Banque Misr Damanhour Branch - 1 Saad Zaghloul...</td>\n",
       "      <td>31.042419</td>\n",
       "      <td>30.468909</td>\n",
       "    </tr>\n",
       "    <tr>\n",
       "      <th>1</th>\n",
       "      <td>Albahr St. - Rasheed - Beside the school compl...</td>\n",
       "      <td>31.406311</td>\n",
       "      <td>30.423861</td>\n",
       "    </tr>\n",
       "    <tr>\n",
       "      <th>2</th>\n",
       "      <td>Mahmoudia Canal St.</td>\n",
       "      <td>31.182751</td>\n",
       "      <td>30.527557</td>\n",
       "    </tr>\n",
       "    <tr>\n",
       "      <th>3</th>\n",
       "      <td>Mohamed Metwally Alshaarawy St. - Abo Almatamir</td>\n",
       "      <td>30.910789</td>\n",
       "      <td>30.177019</td>\n",
       "    </tr>\n",
       "    <tr>\n",
       "      <th>4</th>\n",
       "      <td>Kafr Aldawar - Port Said St.</td>\n",
       "      <td>31.133868</td>\n",
       "      <td>30.135130</td>\n",
       "    </tr>\n",
       "    <tr>\n",
       "      <th>...</th>\n",
       "      <td>...</td>\n",
       "      <td>...</td>\n",
       "      <td>...</td>\n",
       "    </tr>\n",
       "    <tr>\n",
       "      <th>730</th>\n",
       "      <td>Arrival hall Suez Port</td>\n",
       "      <td>29.942901</td>\n",
       "      <td>32.567302</td>\n",
       "    </tr>\n",
       "    <tr>\n",
       "      <th>731</th>\n",
       "      <td>Port Tawfiq in front of Gate No. (5), the cust...</td>\n",
       "      <td>29.942304</td>\n",
       "      <td>32.560966</td>\n",
       "    </tr>\n",
       "    <tr>\n",
       "      <th>732</th>\n",
       "      <td>Arrival visa office at the new airport adminis...</td>\n",
       "      <td>29.937393</td>\n",
       "      <td>32.557254</td>\n",
       "    </tr>\n",
       "    <tr>\n",
       "      <th>733</th>\n",
       "      <td>Arkan Mall - Sheikh Zayed Entrance 2 - in fron...</td>\n",
       "      <td>29.964206</td>\n",
       "      <td>32.549570</td>\n",
       "    </tr>\n",
       "    <tr>\n",
       "      <th>734</th>\n",
       "      <td>Inside the New Administrative Capital Airport</td>\n",
       "      <td>30.001139</td>\n",
       "      <td>32.485548</td>\n",
       "    </tr>\n",
       "  </tbody>\n",
       "</table>\n",
       "<p>735 rows × 3 columns</p>\n",
       "</div>"
      ],
      "text/plain": [
       "                                        Branch_Address        Lat       Long\n",
       "0    Banque Misr Damanhour Branch - 1 Saad Zaghloul...  31.042419  30.468909\n",
       "1    Albahr St. - Rasheed - Beside the school compl...  31.406311  30.423861\n",
       "2                                  Mahmoudia Canal St.  31.182751  30.527557\n",
       "3      Mohamed Metwally Alshaarawy St. - Abo Almatamir  30.910789  30.177019\n",
       "4                         Kafr Aldawar - Port Said St.  31.133868  30.135130\n",
       "..                                                 ...        ...        ...\n",
       "730                             Arrival hall Suez Port  29.942901  32.567302\n",
       "731  Port Tawfiq in front of Gate No. (5), the cust...  29.942304  32.560966\n",
       "732  Arrival visa office at the new airport adminis...  29.937393  32.557254\n",
       "733  Arkan Mall - Sheikh Zayed Entrance 2 - in fron...  29.964206  32.549570\n",
       "734      Inside the New Administrative Capital Airport  30.001139  32.485548\n",
       "\n",
       "[735 rows x 3 columns]"
      ]
     },
     "execution_count": 22,
     "metadata": {},
     "output_type": "execute_result"
    }
   ],
   "source": [
    "branches_df = pd.read_excel('Branches_Location.xlsx')\n",
    "branches_df"
   ]
  },
  {
   "cell_type": "code",
   "execution_count": 23,
   "id": "93b4f0d7",
   "metadata": {},
   "outputs": [],
   "source": [
    "branches_df = branches_df[['Lat','Long','Branch_Address']].apply(get_places,axis =1)"
   ]
  },
  {
   "cell_type": "code",
   "execution_count": 24,
   "id": "a71976c7",
   "metadata": {},
   "outputs": [],
   "source": [
    "branches_df.to_excel('Branches_Location.xlsx',index=0)"
   ]
  },
  {
   "cell_type": "code",
   "execution_count": 25,
   "id": "f09c1f37",
   "metadata": {},
   "outputs": [
    {
     "data": {
      "text/html": [
       "<div>\n",
       "<style scoped>\n",
       "    .dataframe tbody tr th:only-of-type {\n",
       "        vertical-align: middle;\n",
       "    }\n",
       "\n",
       "    .dataframe tbody tr th {\n",
       "        vertical-align: top;\n",
       "    }\n",
       "\n",
       "    .dataframe thead th {\n",
       "        text-align: right;\n",
       "    }\n",
       "</style>\n",
       "<table border=\"1\" class=\"dataframe\">\n",
       "  <thead>\n",
       "    <tr style=\"text-align: right;\">\n",
       "      <th></th>\n",
       "      <th>Lat</th>\n",
       "      <th>Long</th>\n",
       "      <th>Branch_Address</th>\n",
       "      <th>محافظة</th>\n",
       "      <th>قسم / مركز</th>\n",
       "      <th>منطقة</th>\n",
       "    </tr>\n",
       "  </thead>\n",
       "  <tbody>\n",
       "    <tr>\n",
       "      <th>0</th>\n",
       "      <td>31.042419</td>\n",
       "      <td>30.468909</td>\n",
       "      <td>Banque Misr Damanhour Branch - 1 Saad Zaghloul...</td>\n",
       "      <td>البحيرة</td>\n",
       "      <td>قسم دمنهور</td>\n",
       "      <td>طاموس</td>\n",
       "    </tr>\n",
       "    <tr>\n",
       "      <th>1</th>\n",
       "      <td>31.406311</td>\n",
       "      <td>30.423861</td>\n",
       "      <td>Albahr St. - Rasheed - Beside the school compl...</td>\n",
       "      <td>البحيرة</td>\n",
       "      <td>مركز رشيد</td>\n",
       "      <td>مدينة رشيد</td>\n",
       "    </tr>\n",
       "    <tr>\n",
       "      <th>2</th>\n",
       "      <td>31.182751</td>\n",
       "      <td>30.527557</td>\n",
       "      <td>Mahmoudia Canal St.</td>\n",
       "      <td>البحيرة</td>\n",
       "      <td>مركز المحمودية</td>\n",
       "      <td>كفر أمليط</td>\n",
       "    </tr>\n",
       "    <tr>\n",
       "      <th>3</th>\n",
       "      <td>30.910789</td>\n",
       "      <td>30.177019</td>\n",
       "      <td>Mohamed Metwally Alshaarawy St. - Abo Almatamir</td>\n",
       "      <td>البحيرة</td>\n",
       "      <td>مركز ابوالمطامير</td>\n",
       "      <td>مدينة أبو المطامير</td>\n",
       "    </tr>\n",
       "    <tr>\n",
       "      <th>4</th>\n",
       "      <td>31.133868</td>\n",
       "      <td>30.135130</td>\n",
       "      <td>Kafr Aldawar - Port Said St.</td>\n",
       "      <td>البحيرة</td>\n",
       "      <td>قسم كفرالدوار</td>\n",
       "      <td>مدينة كفر الدوار</td>\n",
       "    </tr>\n",
       "  </tbody>\n",
       "</table>\n",
       "</div>"
      ],
      "text/plain": [
       "         Lat       Long                                     Branch_Address   محافظة  \\\n",
       "0  31.042419  30.468909  Banque Misr Damanhour Branch - 1 Saad Zaghloul...  البحيرة   \n",
       "1  31.406311  30.423861  Albahr St. - Rasheed - Beside the school compl...  البحيرة   \n",
       "2  31.182751  30.527557                                Mahmoudia Canal St.  البحيرة   \n",
       "3  30.910789  30.177019    Mohamed Metwally Alshaarawy St. - Abo Almatamir  البحيرة   \n",
       "4  31.133868  30.135130                       Kafr Aldawar - Port Said St.  البحيرة   \n",
       "\n",
       "         قسم / مركز               منطقة  \n",
       "0        قسم دمنهور               طاموس  \n",
       "1         مركز رشيد          مدينة رشيد  \n",
       "2    مركز المحمودية           كفر أمليط  \n",
       "3  مركز ابوالمطامير  مدينة أبو المطامير  \n",
       "4     قسم كفرالدوار    مدينة كفر الدوار  "
      ]
     },
     "execution_count": 25,
     "metadata": {},
     "output_type": "execute_result"
    }
   ],
   "source": [
    "branches_df.head()"
   ]
  }
 ],
 "metadata": {
  "kernelspec": {
   "display_name": "Python 3 (ipykernel)",
   "language": "python",
   "name": "python3"
  },
  "language_info": {
   "codemirror_mode": {
    "name": "ipython",
    "version": 3
   },
   "file_extension": ".py",
   "mimetype": "text/x-python",
   "name": "python",
   "nbconvert_exporter": "python",
   "pygments_lexer": "ipython3",
   "version": "3.10.4"
  }
 },
 "nbformat": 4,
 "nbformat_minor": 5
}
