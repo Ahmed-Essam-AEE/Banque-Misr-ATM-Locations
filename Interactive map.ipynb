{
 "cells": [
  {
   "cell_type": "code",
   "execution_count": null,
   "id": "8234397e",
   "metadata": {},
   "outputs": [],
   "source": [
    "import pandas as pd\n",
    "import numpy as np\n",
    "import geopandas as gpd\n",
    "import folium\n",
    "import re"
   ]
  },
  {
   "cell_type": "code",
   "execution_count": null,
   "id": "748c2ebe",
   "metadata": {},
   "outputs": [],
   "source": [
    "geo_df = gpd.read_file('Reading shape files/egy_admbnda_adm3_capmas_20170421.shp')\n",
    "all_sub_regions = geo_df[['ADM1_AR','ADM2_AR','ADM3_AR','geometry']]\n",
    "all_sub_regions.head()"
   ]
  },
  {
   "cell_type": "markdown",
   "id": "63e775d2",
   "metadata": {},
   "source": [
    "# Getting num of atms in each region and this time with their polygon"
   ]
  },
  {
   "cell_type": "code",
   "execution_count": null,
   "id": "badb4b18",
   "metadata": {},
   "outputs": [],
   "source": [
    "all_sub_regions['ADM1_AR'] = all_sub_regions['ADM1_AR'].apply(lambda x : re.sub('\\n','',x))\n",
    "all_sub_regions['ADM2_AR'] = all_sub_regions['ADM2_AR'].apply(lambda x : re.sub('\\n','',x))\n",
    "all_sub_regions['ADM3_AR'] = all_sub_regions['ADM3_AR'].apply(lambda x : re.sub('\\n','',x))\n",
    "all_sub_regions.rename(columns={\n",
    "    'ADM3_AR':'منطقة',\n",
    "    'ADM2_AR':'قسم / مركز',\n",
    "    'ADM1_AR':'محافظة',\n",
    "},inplace=True)\n",
    "all_sub_regions"
   ]
  },
  {
   "cell_type": "code",
   "execution_count": null,
   "id": "cce72025",
   "metadata": {},
   "outputs": [],
   "source": [
    "df = pd.read_excel('ATM_Bank_Misr_except_in_branches.xlsx')\n",
    "df.head(2)"
   ]
  },
  {
   "cell_type": "code",
   "execution_count": null,
   "id": "041beb6b",
   "metadata": {},
   "outputs": [],
   "source": [
    "temp = df\n",
    "temp2 = all_sub_regions"
   ]
  },
  {
   "cell_type": "code",
   "execution_count": null,
   "id": "924b09c6",
   "metadata": {},
   "outputs": [],
   "source": [
    "# count atms in all subregions\n",
    "def get_atms_counts_subregions(x):\n",
    "    index = x['منطقة']\n",
    "    count =0\n",
    "    for i in range(len(temp)):\n",
    "        if temp['منطقة'].iloc[i] == index:\n",
    "            count += 1\n",
    "    \n",
    "    x['Num_of_Atms'] = count\n",
    "    return x\n",
    "    "
   ]
  },
  {
   "cell_type": "code",
   "execution_count": null,
   "id": "ebfaa5ce",
   "metadata": {},
   "outputs": [],
   "source": [
    "all_sub_regions = temp2.apply(get_atms_counts_subregions,axis = 1)\n",
    "all_sub_regions"
   ]
  },
  {
   "cell_type": "code",
   "execution_count": 1,
   "id": "af48c7ff",
   "metadata": {},
   "outputs": [
    {
     "ename": "NameError",
     "evalue": "name 'folium' is not defined",
     "output_type": "error",
     "traceback": [
      "\u001b[0;31m---------------------------------------------------------------------------\u001b[0m",
      "\u001b[0;31mNameError\u001b[0m                                 Traceback (most recent call last)",
      "Input \u001b[0;32mIn [1]\u001b[0m, in \u001b[0;36m<cell line: 1>\u001b[0;34m()\u001b[0m\n\u001b[0;32m----> 1\u001b[0m m \u001b[38;5;241m=\u001b[39m \u001b[43mfolium\u001b[49m\u001b[38;5;241m.\u001b[39mMap(location\u001b[38;5;241m=\u001b[39m[\u001b[38;5;241m30.01904694483688\u001b[39m, \u001b[38;5;241m31.429658620148153\u001b[39m], zoom_start\u001b[38;5;241m=\u001b[39m\u001b[38;5;241m8\u001b[39m)\n",
      "\u001b[0;31mNameError\u001b[0m: name 'folium' is not defined"
     ]
    }
   ],
   "source": [
    "m = folium.Map(location=[30.01904694483688, 31.429658620148153], zoom_start=8)"
   ]
  },
  {
   "cell_type": "code",
   "execution_count": null,
   "id": "80d5b0a6",
   "metadata": {},
   "outputs": [],
   "source": [
    "for _, r in all_sub_regions.iterrows():\n",
    "    # Without simplifying the representation of each borough,\n",
    "    # the map might not be displayed\n",
    "    sim_geo = gpd.GeoSeries(r['geometry']).simplify(tolerance=0.0001)\n",
    "    geo_j = sim_geo.to_json()\n",
    "    geo_j = folium.GeoJson(data=geo_j,\n",
    "                           style_function=lambda x: {'fillColor': 'orange'})\n",
    "    folium.Popup(r['منطقة'] + '\\n#ATMs= ' + str(r['Num_of_Atms'])).add_to(geo_j)\n",
    "    geo_j.add_to(m)\n",
    "    "
   ]
  },
  {
   "cell_type": "code",
   "execution_count": null,
   "id": "615a79eb",
   "metadata": {},
   "outputs": [],
   "source": [
    "def add_marker(x):\n",
    "    folium.CircleMarker(\n",
    "        location=[x.Lat,x.Long], # coordinates for the marker (Earth Lab at CU Boulder)\n",
    "        tooltip=x.Address,\n",
    "        color='red',\n",
    "        radius = 1\n",
    ").add_to(m)"
   ]
  },
  {
   "cell_type": "code",
   "execution_count": null,
   "id": "35cb9f31",
   "metadata": {},
   "outputs": [],
   "source": [
    "df[:1512].apply(add_marker,axis = 1)\n",
    "df[1513:].apply(add_marker,axis = 1)\n",
    "# and 1512 has a problem in drawing for some reason"
   ]
  },
  {
   "cell_type": "code",
   "execution_count": null,
   "id": "4ddfc465",
   "metadata": {
    "scrolled": false
   },
   "outputs": [],
   "source": [
    "m"
   ]
  },
  {
   "cell_type": "code",
   "execution_count": null,
   "id": "6333b782",
   "metadata": {},
   "outputs": [],
   "source": [
    "for i in range()"
   ]
  },
  {
   "cell_type": "code",
   "execution_count": null,
   "id": "f401965c",
   "metadata": {},
   "outputs": [],
   "source": [
    "counter = 6"
   ]
  },
  {
   "cell_type": "code",
   "execution_count": null,
   "id": "936d916a",
   "metadata": {},
   "outputs": [],
   "source": [
    "counter += 1\n",
    "m.fit_bounds(m.get_bounds())\n",
    "m.save('html_map_output/'+str(counter)+'_map.html')"
   ]
  }
 ],
 "metadata": {
  "kernelspec": {
   "display_name": "Python 3 (ipykernel)",
   "language": "python",
   "name": "python3"
  },
  "language_info": {
   "codemirror_mode": {
    "name": "ipython",
    "version": 3
   },
   "file_extension": ".py",
   "mimetype": "text/x-python",
   "name": "python",
   "nbconvert_exporter": "python",
   "pygments_lexer": "ipython3",
   "version": "3.10.4"
  }
 },
 "nbformat": 4,
 "nbformat_minor": 5
}
